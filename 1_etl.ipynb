{
 "cells": [
  {
   "cell_type": "code",
   "execution_count": 1,
   "id": "4c2bf2e7",
   "metadata": {},
   "outputs": [],
   "source": [
    "# Импорты, подключение к базe\n",
    "import cx_Oracle\n",
    "import csv\n",
    "import pandas as pd\n",
    "import hashlib\n",
    "\n",
    "con = cx_Oracle.connect(user='student_kuzevol', password='student_kuzevol',\n",
    "                        dsn='79.164.32.101:1522/orcl')\n",
    "cur = con.cursor()"
   ]
  },
  {
   "cell_type": "markdown",
   "id": "0dc47855",
   "metadata": {},
   "source": [
    "### Пользователи"
   ]
  },
  {
   "cell_type": "code",
   "execution_count": 2,
   "id": "a58a9ce3",
   "metadata": {},
   "outputs": [],
   "source": [
    "# Загрузка данных о пользователях\n",
    "data = pd.read_csv('USERS_pr.csv')\n",
    "data = data.fillna('')\n",
    "\n",
    "sql =  f'''insert into users (\n",
    "            person,\n",
    "            current_age,          \n",
    "            retirement_age,         \n",
    "            birth_year,             \n",
    "            birth_month,               \n",
    "            gender,                    \n",
    "            address,                 \n",
    "            apartment,               \n",
    "            city,                     \n",
    "            state,                    \n",
    "            zipcode,                  \n",
    "            latitude,               \n",
    "            longitude,              \n",
    "            per_capita_income_zipcode,\n",
    "            yearly_income_person,   \n",
    "            total_debt,                \n",
    "            fico_score,            \n",
    "            num_credit_cards)\n",
    "            values (\n",
    "            :1, :2, :3, :4, :5, :6, :7, :8, :9, :10, :11, :12, :13, SUBSTR(:14, 2), SUBSTR(:15, 2), SUBSTR(:16, 2), :17, :18\n",
    "            )'''\n",
    "\n",
    "for i,row in data.iterrows():\n",
    "    try:\n",
    "        cur.execute(sql, tuple(row))\n",
    "    except Exception as e:\n",
    "        print(e)\n",
    "        print(row)\n",
    "con.commit()"
   ]
  },
  {
   "cell_type": "markdown",
   "id": "38e930fa",
   "metadata": {},
   "source": [
    "### Карты"
   ]
  },
  {
   "cell_type": "code",
   "execution_count": 3,
   "id": "ae1e3d1a",
   "metadata": {},
   "outputs": [],
   "source": [
    "# Загрузка данных о картах\n",
    "# Для поля expires в формате mm/yyyy берется последнее число месяца\n",
    "sql = f'''insert into cards (\n",
    "            person_id,\n",
    "            card_index,\n",
    "            card_brand,\n",
    "            card_type,\n",
    "            dpan,\n",
    "            expires,\n",
    "            cvv,\n",
    "            has_chip,\n",
    "            cards_issued,\n",
    "            credit_limit,\n",
    "            acct_open_date,\n",
    "            year_pin_last_changed\n",
    "            )\n",
    "            values (:1, :2, :3, :4, :5, LAST_DAY(TO_DATE(:6,'mm/yyyy')), :7, :8, :9, SUBSTR(:10, 2), TO_DATE(:11, 'mm/yyyy'), :12)\n",
    "'''\n",
    "with open('CARDS_pr.csv', 'r') as csv_file:\n",
    "    card_dpan = {}\n",
    "    csv_reader = csv.reader(csv_file, delimiter=',')\n",
    "    next(csv_reader)\n",
    "    for row in csv_reader:\n",
    "        try:\n",
    "            hash_str = row[4][:6]+hashlib.md5(row[4][6:len(row[4])-4].encode()).hexdigest()+row[4][len(row[4])-4:]\n",
    "            cur.execute(sql, (row[0], row[1], row[2], row[3], hash_str, row[5], row[6], row[7], row[8], row[9], row[10], row[11]))\n",
    "            card_dpan[row[4]] = hash_str\n",
    "        except Exception as e:\n",
    "            print(e)\n",
    "            print(row)\n",
    "con.commit()"
   ]
  },
  {
   "cell_type": "code",
   "execution_count": 4,
   "id": "f965438f",
   "metadata": {},
   "outputs": [],
   "source": [
    "# Загрузка справочника карта/dpan\n",
    "sql = f'''insert into card_dpan (\n",
    "            card_number,\n",
    "            dpan\n",
    "            )\n",
    "            values (:1, :2)\n",
    "'''\n",
    "\n",
    "for key in card_dpan:\n",
    "    try:\n",
    "        cur.execute(sql, (key, card_dpan[key]))\n",
    "    except Exception as e:\n",
    "        print(e)\n",
    "        print(row)\n",
    "con.commit()"
   ]
  },
  {
   "cell_type": "markdown",
   "id": "2d9da7e6",
   "metadata": {},
   "source": [
    "### Транзакции"
   ]
  },
  {
   "cell_type": "code",
   "execution_count": 2,
   "id": "d1811940",
   "metadata": {},
   "outputs": [],
   "source": [
    "# Транзакции\n",
    "\n",
    "# Функция для корректировки исходных данных\n",
    "def fix_line(bad_line):\n",
    "    new_line=bad_line[:len(bad_line)-2]\n",
    "    new_line=new_line+[', '.join(bad_line[len(bad_line)-2:])]\n",
    "    return new_line\n",
    "\n",
    "trans_2018 = pd.read_csv('CCT_2018_1_pr.csv',\n",
    "                        dtype={'ZIP':str}).drop_duplicates(ignore_index=True)\n",
    "trans_2019 = pd.read_csv('CCT_2019_1_pr.csv', on_bad_lines=fix_line, engine='python',\n",
    "                        dtype={'ZIP':str}).drop_duplicates(ignore_index=True)\n",
    "trans_2020 = pd.read_csv('CCT_2020_1_pr.csv', on_bad_lines=fix_line, engine='python',\n",
    "                        dtype={'ZIP':str}).drop_duplicates(ignore_index=True)"
   ]
  },
  {
   "cell_type": "code",
   "execution_count": 3,
   "id": "ed46bfbe",
   "metadata": {},
   "outputs": [],
   "source": [
    "# Корректировка исходных данных\n",
    "cols=list(trans_2020.columns)\n",
    "df = pd.merge(trans_2019,trans_2020, how='outer', indicator = True)\n",
    "trans_2020=df[cols][df['_merge']=='right_only']"
   ]
  },
  {
   "cell_type": "code",
   "execution_count": 4,
   "id": "55f67343",
   "metadata": {},
   "outputs": [],
   "source": [
    "# Формат данных для cur.executemany(...)\n",
    "trans_2018 = trans_2018.where(pd.notnull(trans_2018), None)\n",
    "trans_2018 = list(trans_2018.itertuples(index=False, name=None))\n",
    "trans_2019 = trans_2019.where(pd.notnull(trans_2019), None)\n",
    "trans_2019 = list(trans_2019.itertuples(index=False, name=None))\n",
    "trans_2020 = trans_2020.where(pd.notnull(trans_2020), None)\n",
    "trans_2020 = list(trans_2020.itertuples(index=False, name=None))"
   ]
  },
  {
   "cell_type": "code",
   "execution_count": 5,
   "id": "31f30819",
   "metadata": {},
   "outputs": [
    {
     "name": "stdout",
     "output_type": "stream",
     "text": [
      "1721612\n",
      "1723942\n",
      "336500\n"
     ]
    }
   ],
   "source": [
    "# Статистика\n",
    "print(len(trans_2018))\n",
    "print(len(trans_2019))\n",
    "print(len(trans_2020))"
   ]
  },
  {
   "cell_type": "code",
   "execution_count": 7,
   "id": "9336e6b3",
   "metadata": {},
   "outputs": [],
   "source": [
    "insert_query =  f'''insert into transactions (\n",
    "                transaction_time,\n",
    "                person_id,\n",
    "                card,\n",
    "                amount,\n",
    "                use_chip,\n",
    "                merchant_name,\n",
    "                merchant_city,\n",
    "                merchant_state,\n",
    "                zip,\n",
    "                mcc,\n",
    "                err\n",
    "                )\n",
    "                values (\n",
    "                to_date(substr(:1, 1, 19), 'yyyy-mm-dd hh24:mi:ss'), :2, :3, :4, :5, :6, :7, :8, substr(:9, 1, 5), :10, :11\n",
    "                )'''"
   ]
  },
  {
   "cell_type": "code",
   "execution_count": 10,
   "id": "bbbb8e23",
   "metadata": {},
   "outputs": [],
   "source": [
    "# 2018\n",
    "try:\n",
    "    cur.executemany(insert_query, trans_2018)\n",
    "    con.commit()\n",
    "except Exception as e:\n",
    "    print(e)"
   ]
  },
  {
   "cell_type": "code",
   "execution_count": 14,
   "id": "8074af70",
   "metadata": {},
   "outputs": [],
   "source": [
    "# 2019\n",
    "try:\n",
    "    cur.executemany(insert_query, trans_2019)\n",
    "    con.commit()\n",
    "except Exception as e:\n",
    "    print(e)"
   ]
  },
  {
   "cell_type": "code",
   "execution_count": 8,
   "id": "9866694a",
   "metadata": {},
   "outputs": [],
   "source": [
    "# 2020\n",
    "try:\n",
    "    cur.executemany(insert_query, trans_2020)\n",
    "    con.commit()\n",
    "except Exception as e:\n",
    "    print(e)"
   ]
  },
  {
   "cell_type": "code",
   "execution_count": 9,
   "id": "cff06392",
   "metadata": {},
   "outputs": [],
   "source": [
    "# Закрытие подключения\n",
    "cur.close()\n",
    "con.close()"
   ]
  }
 ],
 "metadata": {
  "kernelspec": {
   "display_name": "Python 3",
   "language": "python",
   "name": "python3"
  },
  "language_info": {
   "codemirror_mode": {
    "name": "ipython",
    "version": 3
   },
   "file_extension": ".py",
   "mimetype": "text/x-python",
   "name": "python",
   "nbconvert_exporter": "python",
   "pygments_lexer": "ipython3",
   "version": "3.8.8"
  }
 },
 "nbformat": 4,
 "nbformat_minor": 5
}
